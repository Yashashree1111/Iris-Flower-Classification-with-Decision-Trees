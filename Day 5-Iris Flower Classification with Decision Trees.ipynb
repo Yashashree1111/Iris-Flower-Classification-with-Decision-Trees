{
 "cells": [
  {
   "attachments": {},
   "cell_type": "markdown",
   "id": "86354dd4",
   "metadata": {},
   "source": [
    "# Day 5: Project name: Iris Flower Classification with Decision Trees\n",
    "Algorithms used: Decision Trees\n",
    "Description: Use Decision Trees to classify the species of Iris flowers based on their features."
   ]
  },
  {
   "cell_type": "code",
   "execution_count": 23,
   "id": "1fdc169e",
   "metadata": {},
   "outputs": [],
   "source": [
    "import pandas as pd\n",
    "from sklearn import datasets\n"
   ]
  },
  {
   "cell_type": "code",
   "execution_count": 24,
   "id": "3e75e662",
   "metadata": {},
   "outputs": [],
   "source": [
    "# Load the iris dataset\n",
    "iris = datasets.load_iris()\n",
    "# Access the data and target\n",
    "x, y = iris.data, iris.target\n"
   ]
  },
  {
   "cell_type": "code",
   "execution_count": 25,
   "id": "aaafb4a6",
   "metadata": {},
   "outputs": [],
   "source": [
    "from sklearn.model_selection import train_test_split"
   ]
  },
  {
   "cell_type": "code",
   "execution_count": 26,
   "id": "6443a5a5",
   "metadata": {},
   "outputs": [],
   "source": [
    "x_train,x_test,y_train,y_test = train_test_split(x,y,test_size=0.25)"
   ]
  },
  {
   "cell_type": "code",
   "execution_count": 27,
   "id": "53d5b71a",
   "metadata": {},
   "outputs": [],
   "source": [
    "from sklearn.tree import DecisionTreeClassifier\n"
   ]
  },
  {
   "cell_type": "code",
   "execution_count": 28,
   "id": "01867f8a",
   "metadata": {},
   "outputs": [
    {
     "data": {
      "text/plain": [
       "DecisionTreeClassifier()"
      ]
     },
     "execution_count": 28,
     "metadata": {},
     "output_type": "execute_result"
    }
   ],
   "source": [
    "# Import the Decision Tree classifier\n",
    "from sklearn.tree import DecisionTreeClassifier\n",
    "\n",
    "# Create an instance of the Decision Tree classifier\n",
    "clf = DecisionTreeClassifier()\n",
    "\n",
    "# Fit the classifier to your training data\n",
    "clf.fit(x_train, y_train)  # X_train is your training data, y_train is the corresponding labels\n"
   ]
  },
  {
   "cell_type": "code",
   "execution_count": 29,
   "id": "e258da55",
   "metadata": {},
   "outputs": [],
   "source": [
    "prediction = clf.predict(x_test)"
   ]
  },
  {
   "cell_type": "code",
   "execution_count": 30,
   "id": "6a6c3940",
   "metadata": {},
   "outputs": [],
   "source": [
    "from sklearn.metrics import accuracy_score"
   ]
  },
  {
   "cell_type": "code",
   "execution_count": 31,
   "id": "8d454985",
   "metadata": {},
   "outputs": [
    {
     "name": "stdout",
     "output_type": "stream",
     "text": [
      "Accuracy: 0.9473684210526315\n"
     ]
    }
   ],
   "source": [
    "accuracy = accuracy_score(y_test, prediction)\n",
    "print(\"Accuracy:\", accuracy)"
   ]
  },
  {
   "cell_type": "markdown",
   "id": "a2e729ba",
   "metadata": {},
   "source": [
    "#### An accuracy of 1.0 (or 100%) for a Decision Tree classifier, or any other classification model, means that the model has made correct predictions for all the data points in the dataset it was evaluated on. In other words, every single prediction matches the true labels perfectly.\n",
    "\n",
    "An accuracy of 1.0 is generally an ideal outcome, indicating that the model has learned the underlying patterns in the data and is performing flawlessly on the given dataset. "
   ]
  },
  {
   "cell_type": "code",
   "execution_count": null,
   "id": "7f888e03",
   "metadata": {},
   "outputs": [],
   "source": []
  },
  {
   "cell_type": "code",
   "execution_count": null,
   "id": "c46b0c64",
   "metadata": {},
   "outputs": [],
   "source": []
  }
 ],
 "metadata": {
  "kernelspec": {
   "display_name": "Python 3 (ipykernel)",
   "language": "python",
   "name": "python3"
  },
  "language_info": {
   "codemirror_mode": {
    "name": "ipython",
    "version": 3
   },
   "file_extension": ".py",
   "mimetype": "text/x-python",
   "name": "python",
   "nbconvert_exporter": "python",
   "pygments_lexer": "ipython3",
   "version": "3.9.12"
  }
 },
 "nbformat": 4,
 "nbformat_minor": 5
}
